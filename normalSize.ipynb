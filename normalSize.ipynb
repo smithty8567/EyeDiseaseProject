{
 "cells": [
  {
   "cell_type": "code",
   "execution_count": null,
   "id": "18fa7639-ebff-47a1-964d-7c1a05fc2592",
   "metadata": {},
   "outputs": [],
   "source": [
    "import numpy as np\n",
    "import matplotlib.pyplot as plt\n",
    "import cv2\n",
    "import os"
   ]
  },
  {
   "cell_type": "code",
   "execution_count": null,
   "id": "16cc33e5-8842-42cc-8fb1-ac945c988a8f",
   "metadata": {},
   "outputs": [],
   "source": [
    "size = [128,128]"
   ]
  },
  {
   "cell_type": "code",
   "execution_count": null,
   "id": "d4358a5a-6a32-41cb-b1b7-089bfdf21ecc",
   "metadata": {},
   "outputs": [],
   "source": [
    "folderPath = \"dataset\""
   ]
  },
  {
   "cell_type": "code",
   "execution_count": null,
   "id": "ab409fbb-1b70-4a14-9916-c1aaeaa292a0",
   "metadata": {},
   "outputs": [],
   "source": [
    "def resizeImage(im, size):\n",
    "    im = cv2.resize(im, (size[0], size[1]))\n",
    "    return im"
   ]
  },
  {
   "cell_type": "code",
   "execution_count": null,
   "id": "f86d4083-30b7-468b-b615-af9102adffeb",
   "metadata": {},
   "outputs": [],
   "source": [
    "for foldername in os.listdir(folderPath):\n",
    "    print(f\"new folder:: {foldername}\")\n",
    "    folder_path = os.path.join(folderPath, foldername)\n",
    "    index = 0\n",
    "\n",
    "    output_folder = os.path.join(\"normalizedSize\", foldername)\n",
    "    os.makedirs(output_folder, exist_ok=True)\n",
    "    \n",
    "    for file_path in os.listdir(folder_path):\n",
    "        im = cv2.cvtColor(cv2.imread(folder_path + \"/\" + file_path), cv2.COLOR_BGR2GRAY)\n",
    "        cv2.imwrite(\"normalizedSize/\" + foldername + \"/\" + file_path, resizeImage(im, size))\n",
    "        if index%25 == 0:\n",
    "            print(index)\n",
    "        index += 1\n",
    "\n",
    "print('done')"
   ]
  },
  {
   "cell_type": "code",
   "execution_count": null,
   "id": "b8521da6-ba0e-4b2c-88ee-593886c0a29d",
   "metadata": {},
   "outputs": [],
   "source": []
  }
 ],
 "metadata": {
  "kernelspec": {
   "display_name": "Python 3 (ipykernel)",
   "language": "python",
   "name": "python3"
  },
  "language_info": {
   "codemirror_mode": {
    "name": "ipython",
    "version": 3
   },
   "file_extension": ".py",
   "mimetype": "text/x-python",
   "name": "python",
   "nbconvert_exporter": "python",
   "pygments_lexer": "ipython3",
   "version": "3.12.7"
  }
 },
 "nbformat": 4,
 "nbformat_minor": 5
}
